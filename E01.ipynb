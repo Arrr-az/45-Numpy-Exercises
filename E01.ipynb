{
 "cells": [
  {
   "cell_type": "code",
   "execution_count": null,
   "id": "eefcf5a2",
   "metadata": {},
   "outputs": [],
   "source": [
    "# Using a NumPy function, how would you create a one-dimensional NumPy array of the numbers from 10 to 100,\n",
    "# counting by 10?"
   ]
  },
  {
   "cell_type": "code",
   "execution_count": 1,
   "id": "32b147a1",
   "metadata": {},
   "outputs": [
    {
     "data": {
      "text/plain": [
       "array([ 10,  20,  30,  40,  50,  60,  70,  80,  90, 100])"
      ]
     },
     "execution_count": 1,
     "metadata": {},
     "output_type": "execute_result"
    }
   ],
   "source": [
    "import numpy as np\n",
    "\n",
    "array = np.arange(10, 101, 10)\n",
    "array"
   ]
  },
  {
   "cell_type": "code",
   "execution_count": null,
   "id": "97899c85",
   "metadata": {},
   "outputs": [],
   "source": []
  }
 ],
 "metadata": {
  "kernelspec": {
   "display_name": "Python 3 (ipykernel)",
   "language": "python",
   "name": "python3"
  },
  "language_info": {
   "codemirror_mode": {
    "name": "ipython",
    "version": 3
   },
   "file_extension": ".py",
   "mimetype": "text/x-python",
   "name": "python",
   "nbconvert_exporter": "python",
   "pygments_lexer": "ipython3",
   "version": "3.9.13"
  },
  "vscode": {
   "interpreter": {
    "hash": "c2f9a78ffdc21906de073fbad9aff7ccfd34eabfc9b54f6247e74b911bdf26bb"
   }
  }
 },
 "nbformat": 4,
 "nbformat_minor": 5
}
