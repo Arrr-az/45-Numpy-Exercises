{
 "cells": [
  {
   "cell_type": "code",
   "execution_count": null,
   "id": "7d9e4cfd",
   "metadata": {},
   "outputs": [],
   "source": [
    "# Source: https://codesolid.com/numpy-practice-questions-to-make-you-an-expert/"
   ]
  },
  {
   "cell_type": "code",
   "execution_count": 1,
   "id": "eefcf5a2",
   "metadata": {},
   "outputs": [
    {
     "data": {
      "text/plain": [
       "array([ 10,  20,  30,  40,  50,  60,  70,  80,  90, 100])"
      ]
     },
     "execution_count": 1,
     "metadata": {},
     "output_type": "execute_result"
    }
   ],
   "source": [
    "# E01\n",
    "\n",
    "# Using a NumPy function, how would you create a one-dimensional NumPy array of the numbers from 10 to 100,\n",
    "# counting by 10?\n",
    "\n",
    "import numpy as np\n",
    "\n",
    "array = np.arange(10, 101, 10)\n",
    "array"
   ]
  },
  {
   "cell_type": "code",
   "execution_count": null,
   "id": "97899c85",
   "metadata": {},
   "outputs": [],
   "source": []
  },
  {
   "cell_type": "code",
   "execution_count": null,
   "id": "c2ad063a",
   "metadata": {},
   "outputs": [],
   "source": []
  },
  {
   "cell_type": "code",
   "execution_count": 2,
   "id": "57c4a72e",
   "metadata": {},
   "outputs": [
    {
     "data": {
      "text/plain": [
       "array([ 10,  20,  30,  40,  50,  60,  70,  80,  90, 100])"
      ]
     },
     "execution_count": 2,
     "metadata": {},
     "output_type": "execute_result"
    }
   ],
   "source": [
    "# E02\n",
    "\n",
    "# How could you create the same NumPy array using a Python range and a list?\n",
    "\n",
    "import numpy as np\n",
    "\n",
    "array = np.array(list(range(10, 101, 10)))\n",
    "\n",
    "array"
   ]
  },
  {
   "cell_type": "code",
   "execution_count": null,
   "id": "567da50a",
   "metadata": {},
   "outputs": [],
   "source": []
  },
  {
   "cell_type": "code",
   "execution_count": null,
   "id": "545fc229",
   "metadata": {},
   "outputs": [],
   "source": []
  },
  {
   "cell_type": "code",
   "execution_count": 3,
   "id": "7a5dbf70",
   "metadata": {},
   "outputs": [
    {
     "ename": "TypeError",
     "evalue": "array() missing required argument 'object' (pos 0)",
     "output_type": "error",
     "traceback": [
      "\u001b[1;31m---------------------------------------------------------------------------\u001b[0m",
      "\u001b[1;31mTypeError\u001b[0m                                 Traceback (most recent call last)",
      "\u001b[1;32m~\\AppData\\Local\\Temp\\ipykernel_14932\\3993021402.py\u001b[0m in \u001b[0;36m<module>\u001b[1;34m\u001b[0m\n\u001b[0;32m      5\u001b[0m \u001b[1;31m# Answer: It creates an empty array with no dimensions\u001b[0m\u001b[1;33m\u001b[0m\u001b[1;33m\u001b[0m\u001b[0m\n\u001b[0;32m      6\u001b[0m \u001b[1;33m\u001b[0m\u001b[0m\n\u001b[1;32m----> 7\u001b[1;33m \u001b[0marray\u001b[0m \u001b[1;33m=\u001b[0m \u001b[0mnp\u001b[0m\u001b[1;33m.\u001b[0m\u001b[0marray\u001b[0m\u001b[1;33m(\u001b[0m\u001b[1;33m)\u001b[0m\u001b[1;33m\u001b[0m\u001b[1;33m\u001b[0m\u001b[0m\n\u001b[0m\u001b[0;32m      8\u001b[0m \u001b[0marray\u001b[0m\u001b[1;33m\u001b[0m\u001b[1;33m\u001b[0m\u001b[0m\n",
      "\u001b[1;31mTypeError\u001b[0m: array() missing required argument 'object' (pos 0)"
     ]
    }
   ],
   "source": [
    "# E03\n",
    "\n",
    "# What happens if you pass no arguments to the np.array()?\n",
    "\n",
    "# Answer: It returns an error, since np.array requires an object as parameter\n",
    "\n",
    "array = np.array()\n",
    "array"
   ]
  },
  {
   "cell_type": "code",
   "execution_count": null,
   "id": "14e0bc9e",
   "metadata": {},
   "outputs": [],
   "source": []
  },
  {
   "cell_type": "code",
   "execution_count": null,
   "id": "2e2a79bc",
   "metadata": {},
   "outputs": [],
   "source": []
  },
  {
   "cell_type": "code",
   "execution_count": 4,
   "id": "f934d9c9",
   "metadata": {},
   "outputs": [
    {
     "data": {
      "text/plain": [
       "array(['A', 'B', 'C', 'D', 'E', 'F', 'G', 'H', 'I', 'J', 'K', 'L', 'M',\n",
       "       'N', 'O', 'P', 'Q', 'R', 'S', 'T', 'U', 'V', 'W', 'X', 'Y', 'Z'],\n",
       "      dtype='<U1')"
      ]
     },
     "execution_count": 4,
     "metadata": {},
     "output_type": "execute_result"
    }
   ],
   "source": [
    "# E04\n",
    "\n",
    "# How might you create a NumPy array of the capital letters, A-Z?\n",
    "\n",
    "import numpy as np\n",
    "\n",
    "lista = []\n",
    "for i in range(65, 91):   #91 == 65 + 26. 65 é o ASCII da letra A, e +26 é pra percorrer todas as maiúsculas até o Z\n",
    "    lista.append(chr(i))\n",
    "    \n",
    "array = np.array(lista)\n",
    "array"
   ]
  },
  {
   "cell_type": "code",
   "execution_count": null,
   "id": "eeff8681",
   "metadata": {},
   "outputs": [],
   "source": []
  },
  {
   "cell_type": "code",
   "execution_count": null,
   "id": "c224341a",
   "metadata": {},
   "outputs": [],
   "source": []
  },
  {
   "cell_type": "code",
   "execution_count": null,
   "id": "71c53075",
   "metadata": {},
   "outputs": [],
   "source": [
    "# E05\n",
    "\n",
    "# How would you create a ten-element NumPy array object of all zeros?\n",
    "\n",
    "import numpy as np\n",
    "\n",
    "array = np.zeros(10)\n",
    "array"
   ]
  },
  {
   "cell_type": "code",
   "execution_count": null,
   "id": "de47a8db",
   "metadata": {},
   "outputs": [],
   "source": []
  },
  {
   "cell_type": "code",
   "execution_count": null,
   "id": "c9a4a061",
   "metadata": {},
   "outputs": [],
   "source": []
  },
  {
   "cell_type": "code",
   "execution_count": 6,
   "id": "a7660158",
   "metadata": {},
   "outputs": [
    {
     "data": {
      "text/plain": [
       "dtype('<U1')"
      ]
     },
     "execution_count": 6,
     "metadata": {},
     "output_type": "execute_result"
    }
   ],
   "source": [
    "# E06\n",
    "\n",
    "# How would you find the data type given in #4.\n",
    "\n",
    "# E07\n",
    "\n",
    "#What is the data type for #4?\n",
    "\n",
    "import numpy as np\n",
    "\n",
    "### REPETINDO A 4 ###\n",
    "lista = []\n",
    "for i in range(65, 91):   #91 == 65 + 26. 65 é o ASCII da letra A, e +26 é pra percorrer todas as maiúsculas até o Z\n",
    "    lista.append(chr(i))\n",
    "    \n",
    "array = np.array(lista)\n",
    "array\n",
    "#####################\n",
    "\n",
    "array.dtype"
   ]
  },
  {
   "cell_type": "code",
   "execution_count": null,
   "id": "e9de3ecc",
   "metadata": {},
   "outputs": [],
   "source": []
  },
  {
   "cell_type": "code",
   "execution_count": null,
   "id": "6d4b7fa3",
   "metadata": {},
   "outputs": [],
   "source": []
  },
  {
   "cell_type": "code",
   "execution_count": 1,
   "id": "f571a4d3",
   "metadata": {},
   "outputs": [
    {
     "data": {
      "text/plain": [
       "array([1., 1., 1., 1., 1., 1., 1., 1., 1., 1.])"
      ]
     },
     "execution_count": 1,
     "metadata": {},
     "output_type": "execute_result"
    }
   ],
   "source": [
    "# E08\n",
    "\n",
    "# What function would return the same number of elements, but of all ones?\n",
    "\n",
    "import numpy as np\n",
    "\n",
    "array = np.ones(10)\n",
    "array"
   ]
  },
  {
   "cell_type": "code",
   "execution_count": null,
   "id": "771c1078",
   "metadata": {},
   "outputs": [],
   "source": []
  },
  {
   "cell_type": "code",
   "execution_count": null,
   "id": "7e2716d0",
   "metadata": {},
   "outputs": [],
   "source": []
  },
  {
   "cell_type": "code",
   "execution_count": 6,
   "id": "80c4041c",
   "metadata": {},
   "outputs": [
    {
     "data": {
      "text/plain": [
       "array([1, 2, 4, 2, 2, 4, 2, 2, 4, 2])"
      ]
     },
     "execution_count": 6,
     "metadata": {},
     "output_type": "execute_result"
    }
   ],
   "source": [
    "# E09\n",
    "\n",
    "# How could you create a ten-element array of random integers between 1 and 5 (inclusive)?\n",
    "\n",
    "# Numpy has a 'random' module, which has a 'randint' function:\n",
    "\n",
    "import numpy as np\n",
    "\n",
    "array = np.random.randint(1, 6, size = 10)\n",
    "array"
   ]
  },
  {
   "cell_type": "code",
   "execution_count": null,
   "id": "edb3a71c",
   "metadata": {},
   "outputs": [],
   "source": []
  },
  {
   "cell_type": "code",
   "execution_count": null,
   "id": "29b29598",
   "metadata": {},
   "outputs": [],
   "source": []
  },
  {
   "cell_type": "code",
   "execution_count": 9,
   "id": "8aa99d4f",
   "metadata": {},
   "outputs": [
    {
     "data": {
      "text/plain": [
       "array([4.81829488, 4.53246588, 3.24132913, 4.81329933, 7.25602429,\n",
       "       3.62730059, 3.52520817, 3.22533064, 3.36854571, 3.60172723])"
      ]
     },
     "execution_count": 9,
     "metadata": {},
     "output_type": "execute_result"
    }
   ],
   "source": [
    "# E10\n",
    "\n",
    "# How can you create a normal distribution of 10 numbers, centered on 5?\n",
    "\n",
    "import numpy as np\n",
    "\n",
    "array = np.random.normal(5, 1, 10)\n",
    "array\n",
    "\n",
    "# Here, the 1 in the center of the .normal() function is the standard deviation"
   ]
  },
  {
   "cell_type": "code",
   "execution_count": null,
   "id": "18af6b6e",
   "metadata": {},
   "outputs": [],
   "source": []
  },
  {
   "cell_type": "code",
   "execution_count": null,
   "id": "9f392a39",
   "metadata": {},
   "outputs": [],
   "source": []
  },
  {
   "cell_type": "code",
   "execution_count": 6,
   "id": "cab1684d",
   "metadata": {},
   "outputs": [
    {
     "data": {
      "text/plain": [
       "array([0.69835659, 0.84902912, 0.0387064 , 0.77954778, 0.46102078,\n",
       "       0.13172437, 0.205036  , 0.8189816 , 0.43660574, 0.49087579])"
      ]
     },
     "execution_count": 6,
     "metadata": {},
     "output_type": "execute_result"
    }
   ],
   "source": [
    "# E11\n",
    "\n",
    "# What code would create an array of 10 random numbers between zero and one?\n",
    "\n",
    "import numpy as np\n",
    "\n",
    "array = np.random.random(10)\n",
    "array"
   ]
  },
  {
   "cell_type": "code",
   "execution_count": null,
   "id": "7f503c02",
   "metadata": {},
   "outputs": [],
   "source": []
  },
  {
   "cell_type": "code",
   "execution_count": null,
   "id": "24023cb8",
   "metadata": {},
   "outputs": [],
   "source": []
  },
  {
   "cell_type": "code",
   "execution_count": 3,
   "id": "c47dc916",
   "metadata": {},
   "outputs": [
    {
     "data": {
      "text/plain": [
       "array([[1., 1., 1., 1., 1.],\n",
       "       [1., 1., 1., 1., 1.],\n",
       "       [1., 1., 1., 1., 1.]])"
      ]
     },
     "execution_count": 3,
     "metadata": {},
     "output_type": "execute_result"
    }
   ],
   "source": [
    "# E12\n",
    "\n",
    "# Consider the code: np.ones(3,5). Does this:\n",
    "# A) create an array of three arrays containing five elements each or\n",
    "# B) create an array of five arrays containing three elements each?\n",
    "\n",
    "# Answer: A. Actually it returns an error if you write it exactly as it says. The first parameter of .ones() is \"shape\",\n",
    "# so if you want a 2D array of shape (3,5), you must use the parantheses like this: n.ones((3,5)), otherwise if you write\n",
    "# np.ones(3,5), it'll think your first parameter is \"3\" and the second is \"5\"\n",
    "\n",
    "import numpy as np\n",
    "\n",
    "array = np.ones((3,5))\n",
    "array"
   ]
  },
  {
   "cell_type": "code",
   "execution_count": null,
   "id": "772c5624",
   "metadata": {},
   "outputs": [],
   "source": []
  },
  {
   "cell_type": "code",
   "execution_count": null,
   "id": "d8d88d16",
   "metadata": {},
   "outputs": [],
   "source": []
  },
  {
   "cell_type": "code",
   "execution_count": 2,
   "id": "290c72a2",
   "metadata": {},
   "outputs": [
    {
     "data": {
      "text/plain": [
       "7"
      ]
     },
     "execution_count": 2,
     "metadata": {},
     "output_type": "execute_result"
    }
   ],
   "source": [
    "# E13\n",
    "\n",
    "# Consider an array named “myarray” that is displayed like this:\n",
    "\n",
    "# array([[ 1,  2,  3,  4],\n",
    "#       [ 5,  6,  7,  8],\n",
    "#       [ 9, 10, 11, 12]])\n",
    "\n",
    "# What value does the code myarray[1,2] return?\n",
    "# A) 10\n",
    "# B) 7.\n",
    "\n",
    "# Answer: B) 7\n",
    "\n",
    "import numpy as np\n",
    "\n",
    "myarray = np.array([[1, 2, 3, 4],\n",
    "                  [5, 6, 7, 8],\n",
    "                  [9, 10, 11, 12]])\n",
    "myarray[1,2]"
   ]
  }
 ],
 "metadata": {
  "kernelspec": {
   "display_name": "Python 3 (ipykernel)",
   "language": "python",
   "name": "python3"
  },
  "language_info": {
   "codemirror_mode": {
    "name": "ipython",
    "version": 3
   },
   "file_extension": ".py",
   "mimetype": "text/x-python",
   "name": "python",
   "nbconvert_exporter": "python",
   "pygments_lexer": "ipython3",
   "version": "3.9.13"
  },
  "vscode": {
   "interpreter": {
    "hash": "c2f9a78ffdc21906de073fbad9aff7ccfd34eabfc9b54f6247e74b911bdf26bb"
   }
  }
 },
 "nbformat": 4,
 "nbformat_minor": 5
}
